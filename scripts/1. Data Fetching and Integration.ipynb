{
 "cells": [
  {
   "cell_type": "markdown",
   "id": "7df596c8-ece9-4714-89c6-7d7386fc15f7",
   "metadata": {},
   "source": [
    "## Fetching NVIDIA stock price data from Yagoo Finance"
   ]
  },
  {
   "cell_type": "code",
   "execution_count": 27,
   "id": "b2c01c0e-0284-4e1d-a73a-a58c54925ca5",
   "metadata": {},
   "outputs": [
    {
     "name": "stderr",
     "output_type": "stream",
     "text": [
      "[*********************100%***********************]  1 of 1 completed"
     ]
    },
    {
     "name": "stdout",
     "output_type": "stream",
     "text": [
      "         date  Adj Close    Close     High      Low     Open     Volume\n",
      "0  2020-01-02   5.972710  5.99775  5.99775  5.91800  5.96875  237536000\n",
      "1  2020-01-03   5.877111  5.90175  5.94575  5.85250  5.87750  205384000\n",
      "2  2020-01-06   5.901757  5.92650  5.93175  5.78175  5.80800  262636000\n",
      "3  2020-01-07   5.973209  5.99825  6.04425  5.90975  5.95500  314856000\n",
      "4  2020-01-08   5.984411  6.00950  6.05100  5.95375  5.99400  277108000\n",
      "Index(['date', 'Adj Close', 'Close', 'High', 'Low', 'Open', 'Volume'], dtype='object')\n"
     ]
    },
    {
     "name": "stderr",
     "output_type": "stream",
     "text": [
      "\n"
     ]
    }
   ],
   "source": [
    "import yfinance as yf\n",
    "import pandas as pd\n",
    "\n",
    "nvda_yahoo_stock = yf.download('NVDA', start='2020-01-01', end='2024-11-19')\n",
    "\n",
    "# Clean-up\n",
    "nvda_yahoo_stock.columns = [col[0] if isinstance(col, tuple) else col for col in nvda_yahoo_stock.columns]\n",
    "nvda_yahoo_stock.reset_index(inplace=True)\n",
    "nvda_yahoo_stock.rename(columns={\"Date\": \"date\"}, inplace=True)\n",
    "nvda_yahoo_stock['date'] = nvda_yahoo_stock['date'].dt.date\n",
    "\n",
    "print(nvda_yahoo_stock.head())\n",
    "print(nvda_yahoo_stock.columns)\n",
    "\n",
    "# save to csv file\n",
    "# nvda_yahoo_stock.to_csv('nvda_stock_data.csv', index=False)"
   ]
  },
  {
   "cell_type": "code",
   "execution_count": 29,
   "id": "f9b63e8e-6fec-4e80-8623-68fc3f33e655",
   "metadata": {},
   "outputs": [
    {
     "name": "stdout",
     "output_type": "stream",
     "text": [
      "Yahoo Missing Values:\n",
      " date         0\n",
      "Adj Close    0\n",
      "Close        0\n",
      "High         0\n",
      "Low          0\n",
      "Open         0\n",
      "Volume       0\n",
      "dtype: int64\n"
     ]
    }
   ],
   "source": [
    "# checking missing values\n",
    "print(\"Yahoo Missing Values:\\n\", nvda_yahoo_stock.isnull().sum())"
   ]
  },
  {
   "cell_type": "markdown",
   "id": "404a6c81-e874-4b46-8b12-4705badf96cd",
   "metadata": {},
   "source": [
    "No missing values from nvda_yahoo is checked."
   ]
  },
  {
   "cell_type": "markdown",
   "id": "3ab5e573-c1c7-4f10-a855-146bd3be7bfa",
   "metadata": {},
   "source": [
    "## Fetching news from google news (general)"
   ]
  },
  {
   "cell_type": "code",
   "execution_count": 31,
   "id": "c4b916a6-6dd7-4816-8667-bb737ea37de0",
   "metadata": {},
   "outputs": [
    {
     "name": "stdout",
     "output_type": "stream",
     "text": [
      "'<' not supported between instances of 'datetime.datetime' and 'float'\n",
      "                                               title           date  \\\n",
      "0  Nvidia's new GPU series led an avalanche of en...  1 minutes ago   \n",
      "1  Nvidia, Micron, Tesla, Aurora Innovation, Carv...  7 minutes ago   \n",
      "2  Live Updates CES 2025: Nvidia follow-ups and L...     1 hour ago   \n",
      "3  Stock market today: Nasdaq leads stock decline...     1 hour ago   \n",
      "4  Nvidia Slides After Unveiling Leaves Investors...     1 hour ago   \n",
      "\n",
      "           media                                                url  \\\n",
      "0  Yahoo Finance  https://finance.yahoo.com/news/nvidia-founder-...   \n",
      "1       Barron's  https://www.barrons.com/articles/stock-market-...   \n",
      "2     TechCrunch  https://techcrunch.com/storyline/live-updates-...   \n",
      "3  Yahoo Finance  https://finance.yahoo.com/news/live/stock-mark...   \n",
      "4  Yahoo Finance  https://finance.yahoo.com/news/nvidia-ceo-unve...   \n",
      "\n",
      "                                                desc  \n",
      "0  In a packed Las Vegas arena, Nvidia founder Je...  \n",
      "1  Nvidia falls after the company provides few up...  \n",
      "2  Live Updates CES 2025: Nvidia follow-ups and L...  \n",
      "3  Investors are weighing Nvidia's big AI plans a...  \n",
      "4  (Bloomberg) -- Nvidia Corp. shares slid on Tue...  \n",
      "Total articles saved: 110\n"
     ]
    }
   ],
   "source": [
    "from GoogleNews import GoogleNews\n",
    "import pandas as pd\n",
    "\n",
    "googlenews = GoogleNews(lang='en', period='5y')\n",
    "# googlenews.set_time_range('01/01/2020','11/19/2024')\n",
    "googlenews.search('NVIDIA')\n",
    "googlenews.get_news('NVIDIA')\n",
    "news_results = googlenews.results(sort=True)\n",
    "\n",
    "news_data = []\n",
    "for news in news_results:\n",
    "    news_data.append({\n",
    "        'title': news['title'],\n",
    "        'date': news['date'],\n",
    "        'media': news['media'],\n",
    "        'url': news['link'],\n",
    "        'desc': news['desc']\n",
    "    })\n",
    "\n",
    "google_news_df = pd.DataFrame(news_data)\n",
    "\n",
    "# Save to CSV\n",
    "# google_news_df.to_csv('nvidia_google_news.csv', index=False)\n",
    "\n",
    "\n",
    "# Data Information\n",
    "print(google_news_df.head())\n",
    "print(f\"Total articles saved: {len(google_news_df)}\")"
   ]
  },
  {
   "cell_type": "markdown",
   "id": "85480915-5a8c-4267-b58d-9387bed5e2e8",
   "metadata": {},
   "source": [
    "## Fetching news from Benzinga API (Financial news - domain specific)"
   ]
  },
  {
   "cell_type": "code",
   "execution_count": 49,
   "id": "4e80eeb2-6221-4556-93ea-090bfc67f2b8",
   "metadata": {
    "scrolled": true
   },
   "outputs": [
    {
     "name": "stdout",
     "output_type": "stream",
     "text": [
      "Failed to fetch news from page 1: 401, [\"Access denied for user 0 \\\"anonymous\\\"\"]\n",
      "news_data dict_keys(['date', 'news_content', 'url'])\n",
      "         date                                       news_content  \\\n",
      "0  2024-11-20  Stock Market Today: Dow heads for fifth day of...   \n",
      "1  2024-11-20  Stanley Black & Decker updates targets, plus N...   \n",
      "2  2024-11-20  Stocks fall as Nvidia dips before earnings rep...   \n",
      "3  2024-11-20  Stock Market News Today: Dow, Nasdaq Slip; Inv...   \n",
      "4  2024-11-20  Nvidia On Deck. Will Report Spark Rally? (Live...   \n",
      "\n",
      "                                                 url  \n",
      "0  https://www.marketwatch.com/livecoverage/stock...  \n",
      "1  https://www.cnbc.com/2024/11/20/stanley-black-...  \n",
      "2  https://www.cnbc.com/2024/11/19/stock-market-t...  \n",
      "3  https://www.wsj.com/livecoverage/nvidia-earnin...  \n",
      "4  https://www.investors.com/news/technology/nvid...  \n",
      "Total articles saved: 578\n"
     ]
    }
   ],
   "source": [
    "import os\n",
    "import requests\n",
    "import pandas as pd\n",
    "from collections import Counter\n",
    "\n",
    "API_KEY=\"ecf3d1671a2f49618d1bde23fc209bc2\"\n",
    "url = 'https://api.benzinga.com/api/v2/news'\n",
    "headers = {\"accept\": \"application/json\"}\n",
    "total_articles = 2000\n",
    "page = 1\n",
    "news_data = []\n",
    "\n",
    "# Benzinga's api only allows pagesize up to 100, so I will iterate until I reach the target number of articles\n",
    "while len(news_data) < total_articles:\n",
    "    querystring = {\n",
    "        \"token\": API_KEY,\n",
    "        \"dateFrom\": \"2020-01-01\",\n",
    "        \"dateTo\": \"2024-11-19\",\n",
    "        \"topics\": \"NVDA\",\n",
    "        \"pageSize\": 100,\n",
    "        \"page\": page\n",
    "    }\n",
    "    \n",
    "    response = requests.request(\"GET\", url, headers=headers, params=querystring)\n",
    "    \n",
    "    if response.status_code == 200:\n",
    "        data = response.json()\n",
    "        \n",
    "        if not data:\n",
    "            print(\"No more articles returned by the API.\")\n",
    "            break\n",
    "        \n",
    "        for article in data:\n",
    "            news_data.append({\n",
    "                'id': article.get('id'),\n",
    "                'title': article.get('title'),\n",
    "                'body': article.get('body'),\n",
    "                'channels': article.get('channels'),\n",
    "                'url': article.get('url'),\n",
    "                'publish_date': article.get('created'),\n",
    "                'stocks': article.get('stocks'),\n",
    "                'tags': article.get('tags')\n",
    "            })\n",
    "        \n",
    "        print(f\"Fetched {len(data)} articles from page {page}. Total articles fetched: {len(news_data)}.\")\n",
    "        page += 1  # Increment the page number\n",
    "    else:\n",
    "        print(f\"Failed to fetch news from page {page}: {response.status_code}, {response.text}\")\n",
    "        break\n",
    "\n",
    "benzinga_news_df = pd.DataFrame(news_data)\n",
    "\n",
    "benzinga_news_df = pd.read_csv(\"benzinga_news.csv\")\n",
    "news_data = benzinga_news_df.to_dict('records')\n",
    "\n",
    "# Save to CSV\n",
    "# benzinga_news_df.to_csv('nvidia_benzinga_news.csv', index=False)\n",
    "\n",
    "# Data Information\n",
    "print(benzinga_news_df.head())\n",
    "print(f\"Total articles saved: {len(benzinga_news_df)}\")"
   ]
  },
  {
   "cell_type": "code",
   "execution_count": 47,
   "id": "d26a76ca-b6eb-4e74-882d-7eb51f1a0945",
   "metadata": {},
   "outputs": [
    {
     "ename": "KeyError",
     "evalue": "'stocks'",
     "output_type": "error",
     "traceback": [
      "\u001b[0;31m---------------------------------------------------------------------------\u001b[0m",
      "\u001b[0;31mKeyError\u001b[0m                                  Traceback (most recent call last)",
      "Cell \u001b[0;32mIn[47], line 1\u001b[0m\n\u001b[0;32m----> 1\u001b[0m most_common_stocks \u001b[38;5;241m=\u001b[39m Counter([stock[\u001b[38;5;124m'\u001b[39m\u001b[38;5;124mname\u001b[39m\u001b[38;5;124m'\u001b[39m] \u001b[38;5;28;01mfor\u001b[39;00m article \u001b[38;5;129;01min\u001b[39;00m news_data \u001b[38;5;28;01mif\u001b[39;00m article[\u001b[38;5;124m'\u001b[39m\u001b[38;5;124mstocks\u001b[39m\u001b[38;5;124m'\u001b[39m] \u001b[38;5;28;01mfor\u001b[39;00m stock \u001b[38;5;129;01min\u001b[39;00m article[\u001b[38;5;124m'\u001b[39m\u001b[38;5;124mstocks\u001b[39m\u001b[38;5;124m'\u001b[39m]])\u001b[38;5;241m.\u001b[39mmost_common(\u001b[38;5;241m10\u001b[39m)\n\u001b[1;32m      2\u001b[0m \u001b[38;5;28mprint\u001b[39m(\u001b[38;5;124m\"\u001b[39m\u001b[38;5;124mMost common 10 stocks:\u001b[39m\u001b[38;5;124m\"\u001b[39m, most_common_stocks)\n",
      "\u001b[0;31mKeyError\u001b[0m: 'stocks'"
     ]
    }
   ],
   "source": [
    "most_common_stocks = Counter([stock['name'] for article in news_data if article['stocks'] for stock in article['stocks']]).most_common(10)\n",
    "print(\"Most common 10 stocks:\", most_common_stocks)"
   ]
  },
  {
   "cell_type": "code",
   "execution_count": 51,
   "id": "926ac4f7-55cf-47e4-96dc-20ec0a6f0133",
   "metadata": {},
   "outputs": [
    {
     "name": "stdout",
     "output_type": "stream",
     "text": [
      "(578, 3)\n",
      "Index(['date', 'news_content', 'url'], dtype='object')\n"
     ]
    }
   ],
   "source": [
    "print(benzinga_news_df.shape)\n",
    "print(benzinga_news_df.columns)"
   ]
  },
  {
   "cell_type": "markdown",
   "id": "a0f02aef-276b-49f4-89e4-07b2f1676f51",
   "metadata": {},
   "source": [
    "## Combine Google News and Benzinga News"
   ]
  },
  {
   "cell_type": "code",
   "execution_count": 53,
   "id": "6d72033f-bba2-45fc-9abf-d8a185659459",
   "metadata": {},
   "outputs": [
    {
     "name": "stdout",
     "output_type": "stream",
     "text": [
      "110\n",
      "google news title nan 0\n",
      "google news desc nan 100\n"
     ]
    },
    {
     "ename": "KeyError",
     "evalue": "'publish_date'",
     "output_type": "error",
     "traceback": [
      "\u001b[0;31m---------------------------------------------------------------------------\u001b[0m",
      "\u001b[0;31mKeyError\u001b[0m                                  Traceback (most recent call last)",
      "File \u001b[0;32m/opt/anaconda3/lib/python3.12/site-packages/pandas/core/indexes/base.py:3805\u001b[0m, in \u001b[0;36mIndex.get_loc\u001b[0;34m(self, key)\u001b[0m\n\u001b[1;32m   3804\u001b[0m \u001b[38;5;28;01mtry\u001b[39;00m:\n\u001b[0;32m-> 3805\u001b[0m     \u001b[38;5;28;01mreturn\u001b[39;00m \u001b[38;5;28mself\u001b[39m\u001b[38;5;241m.\u001b[39m_engine\u001b[38;5;241m.\u001b[39mget_loc(casted_key)\n\u001b[1;32m   3806\u001b[0m \u001b[38;5;28;01mexcept\u001b[39;00m \u001b[38;5;167;01mKeyError\u001b[39;00m \u001b[38;5;28;01mas\u001b[39;00m err:\n",
      "File \u001b[0;32mindex.pyx:167\u001b[0m, in \u001b[0;36mpandas._libs.index.IndexEngine.get_loc\u001b[0;34m()\u001b[0m\n",
      "File \u001b[0;32mindex.pyx:196\u001b[0m, in \u001b[0;36mpandas._libs.index.IndexEngine.get_loc\u001b[0;34m()\u001b[0m\n",
      "File \u001b[0;32mpandas/_libs/hashtable_class_helper.pxi:7081\u001b[0m, in \u001b[0;36mpandas._libs.hashtable.PyObjectHashTable.get_item\u001b[0;34m()\u001b[0m\n",
      "File \u001b[0;32mpandas/_libs/hashtable_class_helper.pxi:7089\u001b[0m, in \u001b[0;36mpandas._libs.hashtable.PyObjectHashTable.get_item\u001b[0;34m()\u001b[0m\n",
      "\u001b[0;31mKeyError\u001b[0m: 'publish_date'",
      "\nThe above exception was the direct cause of the following exception:\n",
      "\u001b[0;31mKeyError\u001b[0m                                  Traceback (most recent call last)",
      "Cell \u001b[0;32mIn[53], line 51\u001b[0m\n\u001b[1;32m     48\u001b[0m \u001b[38;5;28mprint\u001b[39m(\u001b[38;5;124m\"\u001b[39m\u001b[38;5;124mgoogle news desc nan\u001b[39m\u001b[38;5;124m\"\u001b[39m, google_news_df[\u001b[38;5;124m\"\u001b[39m\u001b[38;5;124mdesc\u001b[39m\u001b[38;5;124m\"\u001b[39m]\u001b[38;5;241m.\u001b[39misnull()\u001b[38;5;241m.\u001b[39msum())\n\u001b[1;32m     50\u001b[0m \u001b[38;5;66;03m# Process Benzinga Dates\u001b[39;00m\n\u001b[0;32m---> 51\u001b[0m benzinga_news_df[\u001b[38;5;124m'\u001b[39m\u001b[38;5;124mpublish_date\u001b[39m\u001b[38;5;124m'\u001b[39m] \u001b[38;5;241m=\u001b[39m pd\u001b[38;5;241m.\u001b[39mto_datetime(benzinga_news_df[\u001b[38;5;124m'\u001b[39m\u001b[38;5;124mpublish_date\u001b[39m\u001b[38;5;124m'\u001b[39m], errors\u001b[38;5;241m=\u001b[39m\u001b[38;5;124m'\u001b[39m\u001b[38;5;124mcoerce\u001b[39m\u001b[38;5;124m'\u001b[39m)\n\u001b[1;32m     52\u001b[0m benzinga_news_df[\u001b[38;5;124m'\u001b[39m\u001b[38;5;124mpublish_date\u001b[39m\u001b[38;5;124m'\u001b[39m] \u001b[38;5;241m=\u001b[39m benzinga_news_df[\u001b[38;5;124m'\u001b[39m\u001b[38;5;124mpublish_date\u001b[39m\u001b[38;5;124m'\u001b[39m]\u001b[38;5;241m.\u001b[39mdt\u001b[38;5;241m.\u001b[39mtz_localize(\u001b[38;5;28;01mNone\u001b[39;00m)  \u001b[38;5;66;03m# Remove timezone information\u001b[39;00m\n\u001b[1;32m     54\u001b[0m \u001b[38;5;66;03m# Select relevant columns\u001b[39;00m\n",
      "File \u001b[0;32m/opt/anaconda3/lib/python3.12/site-packages/pandas/core/frame.py:4102\u001b[0m, in \u001b[0;36mDataFrame.__getitem__\u001b[0;34m(self, key)\u001b[0m\n\u001b[1;32m   4100\u001b[0m \u001b[38;5;28;01mif\u001b[39;00m \u001b[38;5;28mself\u001b[39m\u001b[38;5;241m.\u001b[39mcolumns\u001b[38;5;241m.\u001b[39mnlevels \u001b[38;5;241m>\u001b[39m \u001b[38;5;241m1\u001b[39m:\n\u001b[1;32m   4101\u001b[0m     \u001b[38;5;28;01mreturn\u001b[39;00m \u001b[38;5;28mself\u001b[39m\u001b[38;5;241m.\u001b[39m_getitem_multilevel(key)\n\u001b[0;32m-> 4102\u001b[0m indexer \u001b[38;5;241m=\u001b[39m \u001b[38;5;28mself\u001b[39m\u001b[38;5;241m.\u001b[39mcolumns\u001b[38;5;241m.\u001b[39mget_loc(key)\n\u001b[1;32m   4103\u001b[0m \u001b[38;5;28;01mif\u001b[39;00m is_integer(indexer):\n\u001b[1;32m   4104\u001b[0m     indexer \u001b[38;5;241m=\u001b[39m [indexer]\n",
      "File \u001b[0;32m/opt/anaconda3/lib/python3.12/site-packages/pandas/core/indexes/base.py:3812\u001b[0m, in \u001b[0;36mIndex.get_loc\u001b[0;34m(self, key)\u001b[0m\n\u001b[1;32m   3807\u001b[0m     \u001b[38;5;28;01mif\u001b[39;00m \u001b[38;5;28misinstance\u001b[39m(casted_key, \u001b[38;5;28mslice\u001b[39m) \u001b[38;5;129;01mor\u001b[39;00m (\n\u001b[1;32m   3808\u001b[0m         \u001b[38;5;28misinstance\u001b[39m(casted_key, abc\u001b[38;5;241m.\u001b[39mIterable)\n\u001b[1;32m   3809\u001b[0m         \u001b[38;5;129;01mand\u001b[39;00m \u001b[38;5;28many\u001b[39m(\u001b[38;5;28misinstance\u001b[39m(x, \u001b[38;5;28mslice\u001b[39m) \u001b[38;5;28;01mfor\u001b[39;00m x \u001b[38;5;129;01min\u001b[39;00m casted_key)\n\u001b[1;32m   3810\u001b[0m     ):\n\u001b[1;32m   3811\u001b[0m         \u001b[38;5;28;01mraise\u001b[39;00m InvalidIndexError(key)\n\u001b[0;32m-> 3812\u001b[0m     \u001b[38;5;28;01mraise\u001b[39;00m \u001b[38;5;167;01mKeyError\u001b[39;00m(key) \u001b[38;5;28;01mfrom\u001b[39;00m \u001b[38;5;21;01merr\u001b[39;00m\n\u001b[1;32m   3813\u001b[0m \u001b[38;5;28;01mexcept\u001b[39;00m \u001b[38;5;167;01mTypeError\u001b[39;00m:\n\u001b[1;32m   3814\u001b[0m     \u001b[38;5;66;03m# If we have a listlike key, _check_indexing_error will raise\u001b[39;00m\n\u001b[1;32m   3815\u001b[0m     \u001b[38;5;66;03m#  InvalidIndexError. Otherwise we fall through and re-raise\u001b[39;00m\n\u001b[1;32m   3816\u001b[0m     \u001b[38;5;66;03m#  the TypeError.\u001b[39;00m\n\u001b[1;32m   3817\u001b[0m     \u001b[38;5;28mself\u001b[39m\u001b[38;5;241m.\u001b[39m_check_indexing_error(key)\n",
      "\u001b[0;31mKeyError\u001b[0m: 'publish_date'"
     ]
    }
   ],
   "source": [
    "from datetime import datetime, timedelta\n",
    "import re\n",
    "\n",
    "# Some date in google news is in relative dates like “2 minutes ago” or “1 hour ago”.\n",
    "# Process Google News Dates into proper datetime objects.\n",
    "def convert_google_date(date_str):\n",
    "    \"\"\"\n",
    "    Convert Google News relative date strings into datetime objects.\n",
    "    \"\"\"\n",
    "    now = datetime.now()\n",
    "    \n",
    "    # Check if input is already a datetime object\n",
    "    if isinstance(date_str, (datetime, pd.Timestamp)):\n",
    "        return date_str\n",
    "    \n",
    "    # Handle relative date strings\n",
    "    if isinstance(date_str, str):\n",
    "        if \"minute\" in date_str:\n",
    "            minutes = int(re.search(r'\\d+', date_str).group())\n",
    "            return now - timedelta(minutes=minutes)\n",
    "        elif \"hour\" in date_str:\n",
    "            hours = int(re.search(r'\\d+', date_str).group())\n",
    "            return now - timedelta(hours=hours)\n",
    "        elif \"day\" in date_str:\n",
    "            days = int(re.search(r'\\d+', date_str).group())\n",
    "            return now - timedelta(days=days)\n",
    "        elif \"week\" in date_str:\n",
    "            weeks = int(re.search(r'\\d+', date_str).group())\n",
    "            return now - timedelta(weeks=weeks)\n",
    "        else:\n",
    "            # Handle standard date formats # e.g., \"Nov 13, 2023\"\n",
    "            try:\n",
    "                # If the date string doesn't include a year, assume the current year # e.g., \"Mar 18\"\n",
    "                if re.match(r'^[A-Za-z]{3} \\d{1,2}$', date_str):\n",
    "                    return datetime.strptime(f\"{date_str} {now.year}\", '%b %d %Y')\n",
    "                return datetime.strptime(date_str, '%b %d, %Y')\n",
    "            except ValueError:\n",
    "                return None\n",
    "    return None  # If it's neither string nor datetime, return None\n",
    "\n",
    "google_news_df['date'] = google_news_df['date'].apply(convert_google_date)\n",
    "google_news_df['date'] = pd.to_datetime(google_news_df['date'])\n",
    "\n",
    "# Combine Google News Title and Description\n",
    "google_news_df['content'] = google_news_df['title'].fillna('') + \". \" + google_news_df['desc'].fillna('') # Avoid getting NaN if there's any NaN value in either column\n",
    "print(len(google_news_df))\n",
    "print(\"google news title nan\", google_news_df[\"title\"].isnull().sum())\n",
    "print(\"google news desc nan\", google_news_df[\"desc\"].isnull().sum())\n",
    "\n",
    "# Process Benzinga Dates\n",
    "benzinga_news_df['publish_date'] = pd.to_datetime(benzinga_news_df['publish_date'], errors='coerce')\n",
    "benzinga_news_df['publish_date'] = benzinga_news_df['publish_date'].dt.tz_localize(None)  # Remove timezone information\n",
    "\n",
    "# Select relevant columns\n",
    "google_news_df = google_news_df[['date', 'content', 'url']]\n",
    "benzinga_news_df = benzinga_news_df[['publish_date', 'title', 'url']]\n",
    "\n",
    "# Rename columns for consistency\n",
    "google_news_df.rename(columns={'date': 'date', 'content': 'news_content', 'url': 'url'}, inplace=True)\n",
    "benzinga_news_df.rename(columns={'publish_date': 'date', 'title': 'news_content', 'url': 'url'}, inplace=True)\n",
    "\n",
    "benzinga_news_df['date'] = pd.to_datetime(benzinga_news_df['date']).dt.date\n",
    "\n",
    "print(\"google_news_df\", google_news_df)\n",
    "print(\"benzinga_news_df\", benzinga_news_df)\n",
    "print(\"google news content nan\", google_news_df[\"news_content\"].isnull().sum())\n",
    "print(\"benzinga news content nan\", benzinga_news_df[\"news_content\"].isnull().sum())"
   ]
  },
  {
   "cell_type": "code",
   "execution_count": 19,
   "id": "2148bc5e-29ad-4c13-9e1a-abb8de1e06bf",
   "metadata": {},
   "outputs": [],
   "source": [
    "# google_news_df.to_csv('cleaned_up_google_news.csv', index=False)\n"
   ]
  },
  {
   "cell_type": "code",
   "execution_count": 65,
   "id": "7eea481a-f941-4ac8-a48d-523956fc9e02",
   "metadata": {
    "scrolled": true
   },
   "outputs": [
    {
     "name": "stdout",
     "output_type": "stream",
     "text": [
      "                                                 title        date  \\\n",
      "0    Nvidia's new GPU series led an avalanche of en...  2025-01-07   \n",
      "1    Nvidia, Micron, Tesla, Aurora Innovation, Carv...  2025-01-07   \n",
      "2    Live Updates CES 2025: Nvidia follow-ups and L...  2025-01-07   \n",
      "3    Stock market today: Nasdaq leads stock decline...  2025-01-07   \n",
      "4    Nvidia Slides After Unveiling Leaves Investors...  2025-01-07   \n",
      "..                                                 ...         ...   \n",
      "683                                                NaN  2024-11-19   \n",
      "684                                                NaN  2024-11-19   \n",
      "685                                                NaN  2024-11-19   \n",
      "686                                                NaN  2024-11-19   \n",
      "687                                                NaN  2024-11-19   \n",
      "\n",
      "             media                                                url  \\\n",
      "0    Yahoo Finance  https://finance.yahoo.com/news/nvidia-founder-...   \n",
      "1         Barron's  https://www.barrons.com/articles/stock-market-...   \n",
      "2       TechCrunch  https://techcrunch.com/storyline/live-updates-...   \n",
      "3    Yahoo Finance  https://finance.yahoo.com/news/live/stock-mark...   \n",
      "4    Yahoo Finance  https://finance.yahoo.com/news/nvidia-ceo-unve...   \n",
      "..             ...                                                ...   \n",
      "683            NaN  https://www.benzinga.com/general/market-summar...   \n",
      "684            NaN  https://www.benzinga.com/24/11/42079312/bitcoi...   \n",
      "685            NaN  https://www.benzinga.com/24/11/42079585/meta-g...   \n",
      "686            NaN  https://www.benzinga.com/24/11/42079908/nvidia...   \n",
      "687            NaN  https://www.benzinga.com/trading-ideas/movers/...   \n",
      "\n",
      "                                                  desc  \\\n",
      "0    In a packed Las Vegas arena, Nvidia founder Je...   \n",
      "1    Nvidia falls after the company provides few up...   \n",
      "2    Live Updates CES 2025: Nvidia follow-ups and L...   \n",
      "3    Investors are weighing Nvidia's big AI plans a...   \n",
      "4    (Bloomberg) -- Nvidia Corp. shares slid on Tue...   \n",
      "..                                                 ...   \n",
      "683                                                NaN   \n",
      "684                                                NaN   \n",
      "685                                                NaN   \n",
      "686                                                NaN   \n",
      "687                                                NaN   \n",
      "\n",
      "                                               content  \\\n",
      "0    Nvidia's new GPU series led an avalanche of en...   \n",
      "1    Nvidia, Micron, Tesla, Aurora Innovation, Carv...   \n",
      "2    Live Updates CES 2025: Nvidia follow-ups and L...   \n",
      "3    Stock market today: Nasdaq leads stock decline...   \n",
      "4    Nvidia Slides After Unveiling Leaves Investors...   \n",
      "..                                                 ...   \n",
      "683                                                NaN   \n",
      "684                                                NaN   \n",
      "685                                                NaN   \n",
      "686                                                NaN   \n",
      "687                                                NaN   \n",
      "\n",
      "                                          news_content  \n",
      "0                                                  NaN  \n",
      "1                                                  NaN  \n",
      "2                                                  NaN  \n",
      "3                                                  NaN  \n",
      "4                                                  NaN  \n",
      "..                                                 ...  \n",
      "683  Not World War III But New Russian Nuclear Doct...  \n",
      "684  Bitcoin, Dogecoin Gain, Ethereum Drops As Blac...  \n",
      "685  Dan Ives Expects 'Drop The Mic Performance' To...  \n",
      "686  Nvidia, Microstrategy, Apollo Global Managemen...  \n",
      "687  Dogecoin, Bitcoin Left In The Dust By AI Meme ...  \n",
      "\n",
      "[688 rows x 7 columns]\n"
     ]
    }
   ],
   "source": [
    "# Combine datasets\n",
    "combined_news = pd.concat([google_news_df, benzinga_news_df], ignore_index=True)\n",
    "\n",
    "combined_news['date'] = pd.to_datetime(combined_news['date']).dt.date\n",
    "\n",
    "print(combined_news)\n",
    "\n",
    "# Save to CSV\n",
    "# combined_news.to_csv(\"nvidia_combined_news.csv\", index=False)\n",
    "# combined_news = pd.read_csv(\"nvidia_combined_news.csv\")"
   ]
  },
  {
   "cell_type": "code",
   "execution_count": 69,
   "id": "c3b17c6b-b0fa-44bb-ac06-e53148ba2931",
   "metadata": {},
   "outputs": [
    {
     "name": "stdout",
     "output_type": "stream",
     "text": [
      "                                          news_content  \\\n",
      "0    Stock Market Today: Dow heads for fifth day of...   \n",
      "1    Stanley Black & Decker updates targets, plus N...   \n",
      "2    Stocks fall as Nvidia dips before earnings rep...   \n",
      "3    Stock Market News Today: Dow, Nasdaq Slip; Inv...   \n",
      "4    Nvidia On Deck. Will Report Spark Rally? (Live...   \n",
      "..                                                 ...   \n",
      "573  Not World War III But New Russian Nuclear Doct...   \n",
      "574  Bitcoin, Dogecoin Gain, Ethereum Drops As Blac...   \n",
      "575  Dan Ives Expects 'Drop The Mic Performance' To...   \n",
      "576  Nvidia, Microstrategy, Apollo Global Managemen...   \n",
      "577  Dogecoin, Bitcoin Left In The Dust By AI Meme ...   \n",
      "\n",
      "                                          cleaned_text  \n",
      "0    Stock Market Today Dow heads fifth day losses ...  \n",
      "1    Stanley Black Decker updates targets plus Nvid...  \n",
      "2    Stocks fall Nvidia dips earnings report Live u...  \n",
      "3    Stock Market News Today Dow Nasdaq Slip Invest...  \n",
      "4    Nvidia On Deck Will Report Spark Rally Live Co...  \n",
      "..                                                 ...  \n",
      "573  Not World War III But New Russian Nuclear Doct...  \n",
      "574  Bitcoin Dogecoin Gain Ethereum Drops As BlackR...  \n",
      "575  Dan Ives Expects Drop The Mic Performance Tomo...  \n",
      "576  Nvidia Microstrategy Apollo Global Management ...  \n",
      "577  Dogecoin Bitcoin Left In The Dust By AI Meme C...  \n",
      "\n",
      "[558 rows x 2 columns]\n"
     ]
    }
   ],
   "source": [
    "import re\n",
    "from nltk.corpus import stopwords\n",
    "\n",
    "def clean_text(text):\n",
    "    stop_words = set(stopwords.words('english'))\n",
    "    text = re.sub(r'<[^>]+>', '', text)  # Remove HTML tags\n",
    "    text = re.sub(r'[^\\w\\s]', '', text)  # Remove punctuation\n",
    "    text = \" \".join(word for word in text.split() if word not in stop_words)\n",
    "    return text\n",
    "combined_news['cleaned_text'] = combined_news['news_content'].apply(clean_text)\n",
    "# google_news_df['cleaned_text'] = google_news_df['news_content'].apply(clean_text)\n",
    "# benzinga_news_df['cleaned_text'] = benzinga_news_df['news_content'].apply(clean_text)\n",
    "\n",
    "# Display changed rows\n",
    "combined_news['text_changed'] = combined_news['news_content'] != combined_news['cleaned_text']\n",
    "changed_rows = combined_news[combined_news['text_changed']]\n",
    "print(changed_rows[['news_content', 'cleaned_text']])"
   ]
  },
  {
   "cell_type": "markdown",
   "id": "3e1bc796-b8d5-476d-8ad0-21280a8eb009",
   "metadata": {},
   "source": [
    "## Perform Sentiment Analysis Using Three Different Options:"
   ]
  },
  {
   "cell_type": "markdown",
   "id": "2389f60f-f3aa-4837-8125-1800c392e560",
   "metadata": {},
   "source": [
    "1. TextBlob\n",
    "2. VADER (Valence Aware Dictionary and Sentiment Reasoner)\n",
    "3. BERT\n"
   ]
  },
  {
   "cell_type": "markdown",
   "id": "48d4c03c-5542-4232-ab99-58c02b8930ce",
   "metadata": {},
   "source": [
    "### 1. Textblob"
   ]
  },
  {
   "cell_type": "code",
   "execution_count": 71,
   "id": "68165fdd-bd33-44b5-ad50-204592debac8",
   "metadata": {},
   "outputs": [],
   "source": [
    "from textblob import TextBlob\n",
    "\n",
    "def get_sentiment(text):\n",
    "    analysis = TextBlob(text)\n",
    "    return analysis.sentiment.polarity  # Returns a value between -1 (negative) and 1 (positive)\n",
    "\n",
    "combined_news['sentiment_polarity'] = combined_news['cleaned_text'].apply(get_sentiment)\n",
    "# google_news_df['sentiment_polarity'] = google_news_df['cleaned_text'].apply(get_sentiment)\n",
    "# benzinga_news_df['sentiment_polarity'] = benzinga_news_df['cleaned_text'].apply(get_sentiment)\n",
    "\n",
    "def classify_sentiment(polarity):\n",
    "    if polarity > 0:\n",
    "        return 'Positive'\n",
    "    else:\n",
    "        return 'Negative'\n",
    "\n",
    "combined_news['textblob_sentiment'] = combined_news['sentiment_polarity'].apply(classify_sentiment)\n",
    "# google_news_df['textblob_sentiment'] = google_news_df['sentiment_polarity'].apply(classify_sentiment)\n",
    "# benzinga_news_df['textblob_sentiment'] = benzinga_news_df['sentiment_polarity'].apply(classify_sentiment)"
   ]
  },
  {
   "cell_type": "code",
   "execution_count": 73,
   "id": "0f5f78e2-6670-4b45-b6ab-93a5d91015c5",
   "metadata": {},
   "outputs": [],
   "source": [
    "# non clean\n",
    "\n",
    "def get_sentiment(text):\n",
    "    analysis = TextBlob(text)\n",
    "    return analysis.sentiment.polarity  # Returns a value between -1 (negative) and 1 (positive)\n",
    "\n",
    "combined_news['nonclean_textblob_sentiment'] = combined_news['news_content'].apply(get_sentiment)\n",
    "# google_news_df['nonclean_textblob_sentiment'] = google_news_df['news_content'].apply(get_sentiment)\n",
    "# benzinga_news_df['nonclean_textblob_sentiment'] = benzinga_news_df['news_content'].apply(get_sentiment)\n",
    "\n",
    "def classify_sentiment(polarity):\n",
    "    if polarity > 0:\n",
    "        return 'Positive'\n",
    "    else:\n",
    "        return 'Negative'\n",
    "\n",
    "combined_news['nonclean_textblob_sentiment'] = combined_news['nonclean_textblob_sentiment'].apply(classify_sentiment)\n",
    "# google_news_df['nonclean_textblob_sentiment'] = google_news_df['nonclean_textblob_sentiment'].apply(classify_sentiment)\n",
    "# benzinga_news_df['nonclean_textblob_sentiment'] = benzinga_news_df['nonclean_textblob_sentiment'].apply(classify_sentiment)"
   ]
  },
  {
   "cell_type": "markdown",
   "id": "df11b8cc-bdb2-40ac-8b73-84c6ff19d8a6",
   "metadata": {},
   "source": [
    "### 2. VADER"
   ]
  },
  {
   "cell_type": "code",
   "execution_count": 23,
   "id": "bb7fa1a2-1844-4a90-887d-438fcc62cf78",
   "metadata": {},
   "outputs": [
    {
     "name": "stdout",
     "output_type": "stream",
     "text": [
      "Requirement already satisfied: vaderSentiment in /opt/anaconda3/lib/python3.12/site-packages (3.3.2)\n",
      "Requirement already satisfied: requests in /opt/anaconda3/lib/python3.12/site-packages (from vaderSentiment) (2.32.2)\n",
      "Requirement already satisfied: charset-normalizer<4,>=2 in /opt/anaconda3/lib/python3.12/site-packages (from requests->vaderSentiment) (2.0.4)\n",
      "Requirement already satisfied: idna<4,>=2.5 in /opt/anaconda3/lib/python3.12/site-packages (from requests->vaderSentiment) (3.7)\n",
      "Requirement already satisfied: urllib3<3,>=1.21.1 in /opt/anaconda3/lib/python3.12/site-packages (from requests->vaderSentiment) (2.2.2)\n",
      "Requirement already satisfied: certifi>=2017.4.17 in /opt/anaconda3/lib/python3.12/site-packages (from requests->vaderSentiment) (2024.8.30)\n"
     ]
    }
   ],
   "source": [
    "!pip install vaderSentiment"
   ]
  },
  {
   "cell_type": "code",
   "execution_count": 79,
   "id": "0ba3da5e-6fbf-41de-8e18-358379af67dc",
   "metadata": {},
   "outputs": [],
   "source": [
    "from vaderSentiment.vaderSentiment import SentimentIntensityAnalyzer\n",
    "\n",
    "analyzer = SentimentIntensityAnalyzer()\n",
    "\n",
    "def get_vader_sentiment(text):\n",
    "    sentiment_scores = analyzer.polarity_scores(text)\n",
    "    return sentiment_scores['compound']  # Returns a value between -1 and 1\n",
    "\n",
    "combined_news['sentiment_score'] = combined_news['cleaned_text'].apply(get_vader_sentiment)\n",
    "# google_news_df['sentiment_score'] = google_news_df['cleaned_text'].apply(get_vader_sentiment)\n",
    "# benzinga_news_df['sentiment_score'] = benzinga_news_df['cleaned_text'].apply(get_vader_sentiment)\n",
    "\n",
    "def classify_vader_sentiment(score):\n",
    "    # VADER’s documentation recommends a small margin around 0 (-0.05 to 0.05) to classify neutral text.\n",
    "    if score > 0:\n",
    "        return 'Positive'\n",
    "    else:\n",
    "        return 'Negative'\n",
    "\n",
    "combined_news['vader_sentiment'] = combined_news['sentiment_score'].apply(classify_vader_sentiment)\n",
    "# google_news_df['vader_sentiment'] = google_news_df['sentiment_score'].apply(classify_sentiment)\n",
    "# benzinga_news_df['vader_sentiment'] = benzinga_news_df['sentiment_score'].apply(classify_sentiment)"
   ]
  },
  {
   "cell_type": "code",
   "execution_count": 81,
   "id": "8e7c0481-fdfd-41f8-82c0-34bc98b093c9",
   "metadata": {},
   "outputs": [],
   "source": [
    "#nonclean\n",
    "analyzer = SentimentIntensityAnalyzer()\n",
    "\n",
    "def get_vader_sentiment(text):\n",
    "    sentiment_scores = analyzer.polarity_scores(text)\n",
    "    return sentiment_scores['compound']  # Returns a value between -1 and 1\n",
    "\n",
    "combined_news['sentiment_score'] = combined_news['news_content'].apply(get_vader_sentiment)\n",
    "# google_news_df['sentiment_score'] = google_news_df['cleaned_text'].apply(get_vader_sentiment)\n",
    "# benzinga_news_df['sentiment_score'] = benzinga_news_df['cleaned_text'].apply(get_vader_sentiment)\n",
    "\n",
    "def classify_vader_sentiment(score):\n",
    "    # VADER’s documentation recommends a small margin around 0 (-0.05 to 0.05) to classify neutral text.\n",
    "    if score > 0:\n",
    "        return 'Positive'\n",
    "    else:\n",
    "        return 'Negative'\n",
    "\n",
    "combined_news['nonclean_vader_sentiment'] = combined_news['sentiment_score'].apply(classify_vader_sentiment)\n",
    "# google_news_df['vader_sentiment'] = google_news_df['sentiment_score'].apply(classify_sentiment)\n",
    "# benzinga_news_df['vader_sentiment'] = benzinga_news_df['sentiment_score'].apply(classify_sentiment)"
   ]
  },
  {
   "cell_type": "markdown",
   "id": "bd36337a-646f-4473-bf96-5807a6dc6772",
   "metadata": {},
   "source": [
    "### 3. Transformer (distilBERT)"
   ]
  },
  {
   "cell_type": "code",
   "execution_count": 83,
   "id": "d604d10f-66d7-4d1d-97fd-7e9b808374cb",
   "metadata": {},
   "outputs": [],
   "source": [
    "import tensorflow as tf\n",
    "import keras\n",
    "from transformers import pipeline"
   ]
  },
  {
   "cell_type": "code",
   "execution_count": 87,
   "id": "b91032dd-2ede-42aa-a3a2-38c299afd0b5",
   "metadata": {},
   "outputs": [
    {
     "name": "stderr",
     "output_type": "stream",
     "text": [
      "No model was supplied, defaulted to distilbert/distilbert-base-uncased-finetuned-sst-2-english and revision 714eb0f (https://huggingface.co/distilbert/distilbert-base-uncased-finetuned-sst-2-english).\n",
      "Using a pipeline without specifying a model name and revision in production is not recommended.\n",
      "All PyTorch model weights were used when initializing TFDistilBertForSequenceClassification.\n",
      "\n",
      "All the weights of TFDistilBertForSequenceClassification were initialized from the PyTorch model.\n",
      "If your task is similar to the task the model of the checkpoint was trained on, you can already use TFDistilBertForSequenceClassification for predictions without further training.\n",
      "Device set to use 0\n"
     ]
    }
   ],
   "source": [
    "sentiment_pipeline = pipeline('sentiment-analysis', framework='tf') # model='distilbert-base-uncased-finetuned-sst-2-english' as default\n",
    "\n",
    "\n",
    "def get_transformer_sentiment(text):\n",
    "    result = sentiment_pipeline(text[:512])  # Truncate if text is too long\n",
    "    return result[0]['label'], result[0]['score']\n",
    "\n",
    "combined_news['transformer_sentiment'] = combined_news['cleaned_text'].apply(\n",
    "    lambda x: get_transformer_sentiment(x)[0]\n",
    ")\n",
    "combined_news['transformer_confidence'] = combined_news['cleaned_text'].apply(\n",
    "    lambda x: get_transformer_sentiment(x)[1]\n",
    ")\n",
    "\n",
    "# google_news_df['transformer_sentiment'] = google_news_df['cleaned_text'].apply(\n",
    "#     lambda x: get_transformer_sentiment(x)[0]\n",
    "# )\n",
    "# google_news_df['transformer_confidence'] = google_news_df['cleaned_text'].apply(\n",
    "#     lambda x: get_transformer_sentiment(x)[1]\n",
    "# )\n",
    "\n",
    "# benzinga_news_df['transformer_sentiment'] = benzinga_news_df['cleaned_text'].apply(\n",
    "#     lambda x: get_transformer_sentiment(x)[0]\n",
    "# )\n",
    "# benzinga_news_df['transformer_confidence'] = benzinga_news_df['cleaned_text'].apply(\n",
    "#     lambda x: get_transformer_sentiment(x)[1]\n",
    "# )"
   ]
  },
  {
   "cell_type": "code",
   "execution_count": 89,
   "id": "f57db38f-2d7e-481a-8257-a05de341d5c5",
   "metadata": {},
   "outputs": [
    {
     "name": "stderr",
     "output_type": "stream",
     "text": [
      "Device set to use mps:0\n"
     ]
    }
   ],
   "source": [
    "#nonclean\n",
    "sentiment_pipeline = pipeline('sentiment-analysis', model='distilbert-base-uncased-finetuned-sst-2-english')\n",
    "\n",
    "def get_transformer_sentiment(text):\n",
    "    result = sentiment_pipeline(text[:512])  # Truncate if text is too long\n",
    "    return result[0]['label'], result[0]['score']\n",
    "\n",
    "combined_news['nonclean_transformer_sentiment'] = combined_news['news_content'].apply(\n",
    "    lambda x: get_transformer_sentiment(x)[0]\n",
    ")\n",
    "combined_news['nonclean_transformer_confidence'] = combined_news['news_content'].apply(\n",
    "    lambda x: get_transformer_sentiment(x)[1]\n",
    ")"
   ]
  },
  {
   "cell_type": "code",
   "execution_count": 91,
   "id": "0ded41e6-6fb6-45cc-80f2-40f7a00d5d86",
   "metadata": {},
   "outputs": [
    {
     "name": "stdout",
     "output_type": "stream",
     "text": [
      "textblob_sentiment\n",
      "Negative    370\n",
      "Positive    208\n",
      "Name: count, dtype: int64\n",
      "vader_sentiment\n",
      "Negative    345\n",
      "Positive    233\n",
      "Name: count, dtype: int64\n",
      "transformer_sentiment\n",
      "NEGATIVE    363\n",
      "POSITIVE    215\n",
      "Name: count, dtype: int64\n",
      "nonclean_textblob_sentiment\n",
      "Negative    370\n",
      "Positive    208\n",
      "Name: count, dtype: int64\n",
      "nonclean_vader_sentiment\n",
      "Negative    345\n",
      "Positive    233\n",
      "Name: count, dtype: int64\n",
      "nonclean_transformer_sentiment\n",
      "NEGATIVE    344\n",
      "POSITIVE    234\n",
      "Name: count, dtype: int64\n"
     ]
    }
   ],
   "source": [
    "print(combined_news['textblob_sentiment'].value_counts())\n",
    "print(combined_news['vader_sentiment'].value_counts())\n",
    "print(combined_news['transformer_sentiment'].value_counts())\n",
    "# print(benzinga_news_df['transformer_sentiment'].value_counts())\n",
    "\n",
    "\n",
    "print(combined_news['nonclean_textblob_sentiment'].value_counts())\n",
    "print(combined_news['nonclean_vader_sentiment'].value_counts())\n",
    "print(combined_news['nonclean_transformer_sentiment'].value_counts())"
   ]
  },
  {
   "cell_type": "code",
   "execution_count": 97,
   "id": "21e113e9-4f7d-4c64-bfe3-7a6791681663",
   "metadata": {
    "scrolled": true
   },
   "outputs": [
    {
     "data": {
      "image/png": "[encoded data removed]",
      "text/plain": [
       "<Figure size 1500x500 with 3 Axes>"
      ]
     },
     "metadata": {},
     "output_type": "display_data"
    }
   ],
   "source": [
    "import matplotlib.pyplot as plt\n",
    "\n",
    "fig, axes = plt.subplots(1, 3, figsize=(15, 5), sharey=True)\n",
    "\n",
    "# TextBlob sentiment distribution\n",
    "combined_news['textblob_sentiment'].value_counts().plot(\n",
    "    kind='bar', ax=axes[0], color=['green', 'red'])\n",
    "axes[0].set_title('TextBlob Sentiment Distribution')\n",
    "axes[0].set_xlabel('Sentiment')\n",
    "axes[0].set_ylabel('Count')\n",
    "axes[0].set_xticklabels(['Positive', 'Negative'], rotation=0)\n",
    "\n",
    "# VADER sentiment distribution\n",
    "combined_news['vader_sentiment'].value_counts().plot(\n",
    "    kind='bar', ax=axes[1], color=['green', 'red'])\n",
    "axes[1].set_title('VADER Sentiment Distribution')\n",
    "axes[1].set_xlabel('Sentiment')\n",
    "axes[1].set_xticklabels(['Positive', 'Negative'], rotation=0)\n",
    "\n",
    "# Transformer sentiment distribution\n",
    "combined_news['transformer_sentiment'].value_counts().plot(\n",
    "    kind='bar', ax=axes[2], color=['green', 'red'])\n",
    "axes[2].set_title('Transformer Sentiment Distribution')\n",
    "axes[2].set_xlabel('Sentiment')\n",
    "axes[2].set_xticklabels(['Positive', 'Negative'], rotation=0)\n",
    "\n",
    "plt.tight_layout()\n",
    "plt.show()"
   ]
  },
  {
   "cell_type": "code",
   "execution_count": 99,
   "id": "424c571c-05f9-4705-8ef3-1c304ff8ab4f",
   "metadata": {},
   "outputs": [
    {
     "name": "stdout",
     "output_type": "stream",
     "text": [
      "           date                                       news_content  \\\n",
      "0    2024-11-20  Stock Market Today: Dow heads for fifth day of...   \n",
      "1    2024-11-20  Stanley Black & Decker updates targets, plus N...   \n",
      "2    2024-11-20  Stocks fall as Nvidia dips before earnings rep...   \n",
      "3    2024-11-20  Stock Market News Today: Dow, Nasdaq Slip; Inv...   \n",
      "4    2024-11-20  Nvidia On Deck. Will Report Spark Rally? (Live...   \n",
      "..          ...                                                ...   \n",
      "573  2024-11-19  Not World War III But New Russian Nuclear Doct...   \n",
      "574  2024-11-19  Bitcoin, Dogecoin Gain, Ethereum Drops As Blac...   \n",
      "575  2024-11-19  Dan Ives Expects 'Drop The Mic Performance' To...   \n",
      "576  2024-11-19  Nvidia, Microstrategy, Apollo Global Managemen...   \n",
      "577  2024-11-19  Dogecoin, Bitcoin Left In The Dust By AI Meme ...   \n",
      "\n",
      "                                                   url  \\\n",
      "0    https://www.marketwatch.com/livecoverage/stock...   \n",
      "1    https://www.cnbc.com/2024/11/20/stanley-black-...   \n",
      "2    https://www.cnbc.com/2024/11/19/stock-market-t...   \n",
      "3    https://www.wsj.com/livecoverage/nvidia-earnin...   \n",
      "4    https://www.investors.com/news/technology/nvid...   \n",
      "..                                                 ...   \n",
      "573  https://www.benzinga.com/general/market-summar...   \n",
      "574  https://www.benzinga.com/24/11/42079312/bitcoi...   \n",
      "575  https://www.benzinga.com/24/11/42079585/meta-g...   \n",
      "576  https://www.benzinga.com/24/11/42079908/nvidia...   \n",
      "577  https://www.benzinga.com/trading-ideas/movers/...   \n",
      "\n",
      "                                          cleaned_text  text_changed  \\\n",
      "0    Stock Market Today Dow heads fifth day losses ...          True   \n",
      "1    Stanley Black Decker updates targets plus Nvid...          True   \n",
      "2    Stocks fall Nvidia dips earnings report Live u...          True   \n",
      "3    Stock Market News Today Dow Nasdaq Slip Invest...          True   \n",
      "4    Nvidia On Deck Will Report Spark Rally Live Co...          True   \n",
      "..                                                 ...           ...   \n",
      "573  Not World War III But New Russian Nuclear Doct...          True   \n",
      "574  Bitcoin Dogecoin Gain Ethereum Drops As BlackR...          True   \n",
      "575  Dan Ives Expects Drop The Mic Performance Tomo...          True   \n",
      "576  Nvidia Microstrategy Apollo Global Management ...          True   \n",
      "577  Dogecoin Bitcoin Left In The Dust By AI Meme C...          True   \n",
      "\n",
      "     sentiment_polarity textblob_sentiment nonclean_textblob_sentiment  \\\n",
      "0              0.300000           Positive                    Positive   \n",
      "1             -0.083333           Negative                    Negative   \n",
      "2             -0.231818           Negative                    Negative   \n",
      "3              0.136364           Positive                    Positive   \n",
      "4              0.028788           Positive                    Positive   \n",
      "..                  ...                ...                         ...   \n",
      "573            0.068182           Positive                    Positive   \n",
      "574            0.000000           Negative                    Negative   \n",
      "575            0.000000           Negative                    Negative   \n",
      "576            0.000000           Negative                    Negative   \n",
      "577            0.050000           Positive                    Positive   \n",
      "\n",
      "     sentiment_score vader_sentiment nonclean_vader_sentiment  \\\n",
      "0            -0.4019        Negative                 Negative   \n",
      "1             0.0000        Negative                 Negative   \n",
      "2            -0.2500        Negative                 Negative   \n",
      "3             0.1027        Positive                 Positive   \n",
      "4             0.6640        Positive                 Positive   \n",
      "..               ...             ...                      ...   \n",
      "573           0.2670        Positive                 Positive   \n",
      "574           0.7351        Positive                 Positive   \n",
      "575          -0.2732        Negative                 Negative   \n",
      "576           0.0000        Negative                 Negative   \n",
      "577           0.0000        Negative                 Negative   \n",
      "\n",
      "    transformer_sentiment  transformer_confidence  \\\n",
      "0                NEGATIVE                0.997304   \n",
      "1                POSITIVE                0.807302   \n",
      "2                NEGATIVE                0.999246   \n",
      "3                NEGATIVE                0.980696   \n",
      "4                POSITIVE                0.967261   \n",
      "..                    ...                     ...   \n",
      "573              NEGATIVE                0.856899   \n",
      "574              NEGATIVE                0.999162   \n",
      "575              NEGATIVE                0.990570   \n",
      "576              NEGATIVE                0.934009   \n",
      "577              NEGATIVE                0.999246   \n",
      "\n",
      "    nonclean_transformer_sentiment  nonclean_transformer_confidence  \n",
      "0                         NEGATIVE                         0.998506  \n",
      "1                         POSITIVE                         0.993236  \n",
      "2                         NEGATIVE                         0.999472  \n",
      "3                         NEGATIVE                         0.949903  \n",
      "4                         NEGATIVE                         0.974791  \n",
      "..                             ...                              ...  \n",
      "573                       NEGATIVE                         0.712370  \n",
      "574                       NEGATIVE                         0.999495  \n",
      "575                       NEGATIVE                         0.998157  \n",
      "576                       NEGATIVE                         0.967253  \n",
      "577                       NEGATIVE                         0.997796  \n",
      "\n",
      "[578 rows x 15 columns]\n"
     ]
    }
   ],
   "source": [
    "print(combined_news)"
   ]
  },
  {
   "cell_type": "code",
   "execution_count": 101,
   "id": "c55eac7d-e313-4707-9c00-48077b233b66",
   "metadata": {},
   "outputs": [],
   "source": [
    "# combined_news.to_csv(\"combined_news_with_two_sentiments.csv\", index=False)\n",
    "# benzinga_news_df.to_csv(\"benzinga_news_with_sentiment.csv\", index=False)"
   ]
  }
 ],
 "metadata": {
  "kernelspec": {
   "display_name": "Python 3 (ipykernel)",
   "language": "python",
   "name": "python3"
  },
  "language_info": {
   "codemirror_mode": {
    "name": "ipython",
    "version": 3
   },
   "file_extension": ".py",
   "mimetype": "text/x-python",
   "name": "python",
   "nbconvert_exporter": "python",
   "pygments_lexer": "ipython3",
   "version": "3.12.4"
  }
 },
 "nbformat": 4,
 "nbformat_minor": 5
}
