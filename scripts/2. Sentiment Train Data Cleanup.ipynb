{
 "cells": [
  {
   "cell_type": "code",
   "execution_count": 16,
   "id": "8f3e7cc1-735f-476b-81ff-b59de7a12249",
   "metadata": {},
   "outputs": [
    {
     "name": "stdout",
     "output_type": "stream",
     "text": [
      "{'encoding': 'Windows-1252', 'confidence': 0.73, 'language': ''}\n",
      "     sentiment                                           headline\n",
      "0      neutral  According to Gran , the company has no plans t...\n",
      "1      neutral  Technopolis plans to develop in stages an area...\n",
      "2     negative  The international electronic industry company ...\n",
      "3     positive  With the new production plant the company woul...\n",
      "4     positive  According to the company 's updated strategy f...\n",
      "...        ...                                                ...\n",
      "4841  negative  LONDON MarketWatch -- Share prices ended lower...\n",
      "4842   neutral  Rinkuskiai 's beer sales fell by 6.5 per cent ...\n",
      "4843  negative  Operating profit fell to EUR 35.4 mn from EUR ...\n",
      "4844  negative  Net sales of the Paper segment decreased to EU...\n",
      "4845  negative  Sales in Finland decreased by 10.5 % in Januar...\n",
      "\n",
      "[4846 rows x 2 columns]\n",
      "Index(['sentiment', 'headline'], dtype='object')\n"
     ]
    }
   ],
   "source": [
    "import pandas as pd\n",
    "from datetime import datetime\n",
    "import chardet\n",
    "\n",
    "# this data is not encoded by \"uft-8\" - gives error on default read_csv\n",
    "# Detecting encoding\n",
    "with open('./sentiment_analysis_data.csv', 'rb') as file:\n",
    "    result = chardet.detect(file.read())\n",
    "    print(result)\n",
    "    encoding = result['encoding']\n",
    "\n",
    "headline_sentiment_data = pd.read_csv('./sentiment_analysis_data.csv', encoding='Windows-1252')\n",
    "# clean up weird syntax in original dataset, and create 'sentiment' and 'headline' columns\n",
    "new_row = pd.DataFrame([headline_sentiment_data.columns], columns=['sentiment', 'headline'])\n",
    "headline_sentiment_data.columns = ['sentiment', 'headline']\n",
    "headline_sentiment_data = pd.concat([new_row, headline_sentiment_data], ignore_index=True)\n",
    "\n",
    "print(headline_sentiment_data)\n",
    "print(headline_sentiment_data.columns)\n"
   ]
  },
  {
   "cell_type": "markdown",
   "id": "ffc367cd-2667-4d77-9a85-24dea8dd89ad",
   "metadata": {},
   "source": [
    "### Minimal Data Cleaning"
   ]
  },
  {
   "cell_type": "code",
   "execution_count": 18,
   "id": "fb4ed7ea-c804-40d8-a298-19c4393b4ceb",
   "metadata": {
    "scrolled": true
   },
   "outputs": [
    {
     "name": "stdout",
     "output_type": "stream",
     "text": [
      "     sentiment                                           headline\n",
      "0      neutral  according to gran  the company has no plans to...\n",
      "1      neutral  technopolis plans to develop in stages an area...\n",
      "2     negative  the international electronic industry company ...\n",
      "3     positive  with the new production plant the company woul...\n",
      "4     positive  according to the company's updated strategy fo...\n",
      "...        ...                                                ...\n",
      "4841  negative  london marketwatch  share prices ended lower i...\n",
      "4842   neutral  rinkuskiai's beer sales fell by 6.5 per cent t...\n",
      "4843  negative  operating profit fell to eur 35.4 mn from eur ...\n",
      "4844  negative  net sales of the paper segment decreased to eu...\n",
      "4845  negative  sales in finland decreased by 10.5  in january...\n",
      "\n",
      "[4846 rows x 2 columns]\n",
      "sentiment\n",
      "neutral     2879\n",
      "positive    1363\n",
      "negative     604\n",
      "Name: count, dtype: int64\n"
     ]
    }
   ],
   "source": [
    "import re\n",
    "\n",
    "def clean_text(text):\n",
    "    text = re.sub(r'<.*?>', '', text)  # Remove HTML\n",
    "    text = re.sub(r'http\\S+', '', text)  # Remove URLs\n",
    "    # Keep punctuation like . and ' - They were altering the meaning of text in some case\n",
    "    # e.g. Rinkuskiai 's beer sales fell by 6.5 per cent ... => rinkuskiai s beer sales fell by 65 per cent to...\n",
    "    text = re.sub(r'[^\\w\\s\\.\\']', '', text)\n",
    "    text = re.sub(r'\\s+\\'s', \"'s\", text)  # Remove space before 's\n",
    "    return text.strip()\n",
    "\n",
    "headline_sentiment_data.headline = headline_sentiment_data.headline.apply(lambda x:clean_text(x.lower()))\n",
    "\n",
    "print(headline_sentiment_data)\n",
    "\n",
    "sentiment_counts = headline_sentiment_data['sentiment'].value_counts()\n",
    "print(sentiment_counts)\n"
   ]
  },
  {
   "cell_type": "markdown",
   "id": "e6b0bbb9-497b-4437-8a12-7614f6d25b91",
   "metadata": {},
   "source": [
    "### Drop Neutral Sentiment"
   ]
  },
  {
   "cell_type": "code",
   "execution_count": 24,
   "id": "12aa9b42-54af-4c4e-9b05-54eb1d84fbdc",
   "metadata": {},
   "outputs": [
    {
     "name": "stdout",
     "output_type": "stream",
     "text": [
      "      sentiment                                           headline\n",
      "0         False  the international electronic industry company ...\n",
      "1          True  with the new production plant the company woul...\n",
      "2          True  according to the company's updated strategy fo...\n",
      "3          True  financing of aspocomp's growth aspocomp is agg...\n",
      "4          True  for the last quarter of 2010  componenta's net...\n",
      "...         ...                                                ...\n",
      "1962      False  helsinki thomson financial  shares in cargotec...\n",
      "1963      False  london marketwatch  share prices ended lower i...\n",
      "1964      False  operating profit fell to eur 35.4 mn from eur ...\n",
      "1965      False  net sales of the paper segment decreased to eu...\n",
      "1966      False  sales in finland decreased by 10.5  in january...\n",
      "\n",
      "[1967 rows x 2 columns]\n"
     ]
    }
   ],
   "source": [
    "neutral_list = list(headline_sentiment_data.loc[headline_sentiment_data[\"sentiment\"] == \"neutral\"].index)\n",
    "headline_sentiment_data = headline_sentiment_data.drop(neutral_list, axis=0).reset_index(drop=True)\n",
    "headline_sentiment_data.sentiment = pd.get_dummies(headline_sentiment_data.sentiment, drop_first = True)\n",
    "print(headline_sentiment_data)"
   ]
  },
  {
   "cell_type": "markdown",
   "id": "8f527fa6-891a-49fb-99a9-17de4651a5e1",
   "metadata": {},
   "source": [
    "### Convert Sentiment into Numerical Values"
   ]
  },
  {
   "cell_type": "code",
   "execution_count": 26,
   "id": "8d001551-ab2f-4b6e-a71c-2e747cb63a5b",
   "metadata": {},
   "outputs": [
    {
     "name": "stdout",
     "output_type": "stream",
     "text": [
      "      sentiment                                           headline\n",
      "0             0  the international electronic industry company ...\n",
      "1             1  with the new production plant the company woul...\n",
      "2             1  according to the company's updated strategy fo...\n",
      "3             1  financing of aspocomp's growth aspocomp is agg...\n",
      "4             1  for the last quarter of 2010  componenta's net...\n",
      "...         ...                                                ...\n",
      "1962          0  helsinki thomson financial  shares in cargotec...\n",
      "1963          0  london marketwatch  share prices ended lower i...\n",
      "1964          0  operating profit fell to eur 35.4 mn from eur ...\n",
      "1965          0  net sales of the paper segment decreased to eu...\n",
      "1966          0  sales in finland decreased by 10.5  in january...\n",
      "\n",
      "[1967 rows x 2 columns]\n"
     ]
    }
   ],
   "source": [
    "sentiment_mapping = {False: 0, True: 1}\n",
    "headline_sentiment_data[\"sentiment\"] = headline_sentiment_data[\"sentiment\"].map(sentiment_mapping)\n",
    "\n",
    "print(headline_sentiment_data)"
   ]
  },
  {
   "cell_type": "code",
   "execution_count": 28,
   "id": "8b08aa56-e1dc-45ef-8bbc-9d3b4f5d57a9",
   "metadata": {},
   "outputs": [],
   "source": [
    "headline_sentiment_data.to_csv(\"sentiment_data_cleaned_up.csv\", index=False)"
   ]
  }
 ],
 "metadata": {
  "kernelspec": {
   "display_name": "Python 3 (ipykernel)",
   "language": "python",
   "name": "python3"
  },
  "language_info": {
   "codemirror_mode": {
    "name": "ipython",
    "version": 3
   },
   "file_extension": ".py",
   "mimetype": "text/x-python",
   "name": "python",
   "nbconvert_exporter": "python",
   "pygments_lexer": "ipython3",
   "version": "3.12.4"
  }
 },
 "nbformat": 4,
 "nbformat_minor": 5
}
